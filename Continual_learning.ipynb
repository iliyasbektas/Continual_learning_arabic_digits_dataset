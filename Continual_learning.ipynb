{
  "cells": [
    {
      "cell_type": "markdown",
      "metadata": {
        "id": "nCYuliKEgcSB"
      },
      "source": [
        "**DESCRIPTION OF THE CODE**: \n",
        "In recent years, handwritten digits recognition has been an important area due to its applications in several fields. This dataset is a collection of handwritten Arabic digits recognition that face several challenges, including the unlimited variation in human handwriting and the large public databases. It contains 60000 training and 10000 testing images. I downloaded the dataset from Kaggle."
      ]
    },
    {
      "cell_type": "markdown",
      "metadata": {
        "id": "bYGUhA7fiX_8"
      },
      "source": [
        "\n",
        "Since the dataset is given in csv. format, I have to do the cleaning, basic preprocessing and transform it into the format that would allow me to build the model."
      ]
    },
    {
      "cell_type": "code",
      "execution_count": null,
      "metadata": {
        "colab": {
          "base_uri": "https://localhost:8080/"
        },
        "id": "R5_WPc116DAe",
        "outputId": "8f94b3a0-837a-4415-dc8e-b0143c13cbb6"
      },
      "outputs": [
        {
          "name": "stdout",
          "output_type": "stream",
          "text": [
            "Drive already mounted at /content/drive; to attempt to forcibly remount, call drive.mount(\"/content/drive\", force_remount=True).\n"
          ]
        }
      ],
      "source": [
        "from google.colab import drive\n",
        "drive.mount('/content/drive')\n",
        "main_path = \"/content/drive/MyDrive/Colab_Notebooks/Sapienza/NNDS/Continual_learning/main_project/ara_digits_data/\""
      ]
    },
    {
      "cell_type": "code",
      "execution_count": null,
      "metadata": {
        "id": "193BpAiN5_96"
      },
      "outputs": [],
      "source": [
        "# import libraries\n",
        "import pandas as pd\n",
        "import numpy as np\n",
        "import tensorflow as tf\n",
        "import matplotlib.pyplot as plt\n",
        "from tensorflow.keras.layers import Dense\n",
        "from tensorflow.keras.models import Sequential\n",
        "from tqdm import tqdm\n",
        "from tensorflow.keras.layers import Conv2D\n",
        "from tensorflow.keras.layers import MaxPooling2D\n",
        "from tensorflow.keras.layers import Activation\n",
        "from tensorflow.keras.layers import Flatten\n",
        "from tensorflow.keras import layers\n",
        "from tensorflow.keras import backend as K"
      ]
    },
    {
      "cell_type": "code",
      "execution_count": null,
      "metadata": {
        "id": "hvDF5JQc5_97"
      },
      "outputs": [],
      "source": [
        "# Get the data and labels\n",
        "train_data = pd.read_csv( main_path +\"csvTrainImages 60k x 784.csv\")\n",
        "test_data = pd.read_csv(main_path +\"csvTestImages 10k x 784.csv\")\n",
        "train_label = pd.read_csv(main_path +\"csvTrainLabel 60k x 1.csv\")\n",
        "test_label = pd.read_csv(main_path +\"csvTestLabel 10k x 1.csv\")"
      ]
    },
    {
      "cell_type": "code",
      "execution_count": null,
      "metadata": {
        "id": "keHZNSxSW-54"
      },
      "outputs": [],
      "source": [
        "# During the analysis, I noticed that the dataset goes in order like 0,1,2... 9, 0, 1. Thus, I shuffle it beforehand. \n",
        "df_train = pd.merge(train_data, train_label, left_index=True, right_index=True)\n",
        "df_train = df_train.sample(frac=1).reset_index(drop=True)\n",
        "df_test = pd.merge(test_data, test_label, left_index=True, right_index=True)\n",
        "df_test = df_test.sample(frac=1).reset_index(drop=True)\n",
        "train_data = df_train.loc[ : , df_train.columns != '0_y']\n",
        "train_label = df_train[['0_y']]\n",
        "test_data = df_test.loc[ : , df_test.columns != '0_y']\n",
        "test_label = df_test[['0_y']]"
      ]
    },
    {
      "cell_type": "markdown",
      "metadata": {
        "id": "RWSSWgFg5_98"
      },
      "source": [
        "#### Data Exploration:"
      ]
    },
    {
      "cell_type": "code",
      "execution_count": null,
      "metadata": {
        "colab": {
          "base_uri": "https://localhost:8080/"
        },
        "id": "SbXQcN5q5_98",
        "outputId": "8d2034a7-9f09-49bf-df40-238425d46a34"
      },
      "outputs": [
        {
          "data": {
            "text/plain": [
              "(59999, 784)"
            ]
          },
          "execution_count": 56,
          "metadata": {},
          "output_type": "execute_result"
        }
      ],
      "source": [
        "# Let's take a look at the shape of the data\n",
        "train_data.shape"
      ]
    },
    {
      "cell_type": "code",
      "execution_count": null,
      "metadata": {
        "colab": {
          "base_uri": "https://localhost:8080/",
          "height": 280
        },
        "id": "c5ICJcFS5_9-",
        "outputId": "abe7f696-5e30-41e3-f4d9-c830a3a32eec"
      },
      "outputs": [
        {
          "data": {
            "text/plain": [
              "<matplotlib.axes._subplots.AxesSubplot at 0x7f4089fedc90>"
            ]
          },
          "execution_count": 57,
          "metadata": {},
          "output_type": "execute_result"
        },
        {
          "data": {
            "image/png": "[encoded data removed]",
            "text/plain": [
              "<Figure size 432x288 with 1 Axes>"
            ]
          },
          "metadata": {},
          "output_type": "display_data"
        }
      ],
      "source": [
        "# Let's look at the label's distribution\n",
        "train_label.iloc[:, 0].value_counts().plot(cmap = \"autumn\", kind = \"bar\")"
      ]
    },
    {
      "cell_type": "markdown",
      "metadata": {
        "id": "s9aqtg9u5_9_"
      },
      "source": [
        "* We could see that the labels are distributed equally. This means that we could use accuracy for our evaluation metrics.\n",
        "* We could also use Precision, Recall, F1-scores."
      ]
    },
    {
      "cell_type": "code",
      "execution_count": null,
      "metadata": {
        "id": "odR5jWK_5_-C"
      },
      "outputs": [],
      "source": [
        "# Let's first convert the data to numpy array for better array manipulation:\n",
        "x_train = train_data.to_numpy()\n",
        "x_test = test_data.to_numpy()\n",
        "y_train = train_label.to_numpy()\n",
        "y_test  = test_label.to_numpy()"
      ]
    },
    {
      "cell_type": "code",
      "execution_count": null,
      "metadata": {
        "colab": {
          "base_uri": "https://localhost:8080/"
        },
        "id": "7MQovDuOI-S3",
        "outputId": "cc5ccbb7-bae8-43e3-bbb5-47192970f425"
      },
      "outputs": [
        {
          "data": {
            "text/plain": [
              "(59999, 28, 28)"
            ]
          },
          "execution_count": 59,
          "metadata": {},
          "output_type": "execute_result"
        }
      ],
      "source": [
        "# We change the shape for the implementation in the model\n",
        "x_train = x_train.reshape(x_train.shape[0], 28, 28)\n",
        "x_test = x_test.reshape(x_test.shape[0], 28, 28)\n",
        "y_train = y_train.reshape(y_train.shape[0], )\n",
        "y_test = y_test.reshape(y_test.shape[0], )\n",
        "x_train.shape"
      ]
    },
    {
      "cell_type": "code",
      "execution_count": null,
      "metadata": {
        "id": "XR-t5V3TIu6y"
      },
      "outputs": [],
      "source": [
        "# Some further processing like normalization and changing to a float datatype\n",
        "x_train = x_train.astype('float32')\n",
        "x_test = x_test.astype('float32')\n",
        "x_train /= 255\n",
        "x_test/= 255"
      ]
    },
    {
      "cell_type": "markdown",
      "metadata": {
        "id": "4lPNJDp45_-C"
      },
      "source": [
        "#### It looks like the numbers are flipped and inverted. Let's do a transpose to the numpy array to see if it gets any better"
      ]
    },
    {
      "cell_type": "code",
      "execution_count": null,
      "metadata": {
        "colab": {
          "base_uri": "https://localhost:8080/",
          "height": 145
        },
        "id": "SenIleQA5_-C",
        "outputId": "43e19b9e-d47a-4779-a94e-ca4edf274e62"
      },
      "outputs": [
        {
          "data": {
            "image/png": "[encoded data removed]",
            "text/plain": [
              "<Figure size 1440x1440 with 10 Axes>"
            ]
          },
          "metadata": {},
          "output_type": "display_data"
        }
      ],
      "source": [
        "fig, ax = plt.subplots(1,10, figsize = (20,20))\n",
        "for i in range(10):\n",
        "    ax[i].imshow(x_train[i])"
      ]
    },
    {
      "cell_type": "markdown",
      "metadata": {
        "id": "XJ7b-ZRmjcyB"
      },
      "source": [
        "#### Let's transpose all the data:"
      ]
    },
    {
      "cell_type": "code",
      "execution_count": null,
      "metadata": {
        "id": "9-1SkBEC5_-D"
      },
      "outputs": [],
      "source": [
        "x_train = np.array([element.transpose() for element in x_train])\n",
        "x_test = np.array([element.transpose() for element in x_test])"
      ]
    },
    {
      "cell_type": "code",
      "execution_count": null,
      "metadata": {
        "colab": {
          "base_uri": "https://localhost:8080/",
          "height": 145
        },
        "id": "_z5kkvQU5_-D",
        "outputId": "0d492f74-dad1-49f8-9f22-4c6617252b0d"
      },
      "outputs": [
        {
          "data": {
            "image/png": "[encoded data removed]",
            "text/plain": [
              "<Figure size 1440x1440 with 10 Axes>"
            ]
          },
          "metadata": {},
          "output_type": "display_data"
        }
      ],
      "source": [
        "fig, ax = plt.subplots(1,10, figsize = (20,20))\n",
        "for i in range(10):\n",
        "    ax[i].imshow(x_train[i])"
      ]
    },
    {
      "cell_type": "markdown",
      "metadata": {
        "id": "3Wb9wFLqkrS3"
      },
      "source": [
        "#### Finally, we can change our data to BatchDataset format"
      ]
    },
    {
      "cell_type": "code",
      "execution_count": null,
      "metadata": {
        "id": "HIbex5wukp-B"
      },
      "outputs": [],
      "source": [
        "train_A = tf.data.Dataset.from_tensor_slices((x_train, y_train)).shuffle(1000).batch(32)\n",
        "test_A = (x_test, y_test)"
      ]
    },
    {
      "cell_type": "markdown",
      "metadata": {
        "id": "cDIsfm6hllWc"
      },
      "source": [
        "#### Choose of the hyperparameters:"
      ]
    },
    {
      "cell_type": "code",
      "execution_count": null,
      "metadata": {
        "id": "bK-ARp5RU4rb"
      },
      "outputs": [],
      "source": [
        "epochs = 7\n",
        "lambda_ = 0.1 \n",
        "lr = 0.001\n",
        "num_sample = 30\n",
        "opt = tf.keras.optimizers.Adam(learning_rate=lr)\n",
        "loss_fn=tf.keras.losses.SparseCategoricalCrossentropy(from_logits=True)"
      ]
    },
    {
      "cell_type": "markdown",
      "metadata": {
        "id": "i8CG6fisoEUw"
      },
      "source": [
        "#### I decided to use regular multilayer perceptron since the data is not computationally heavy as well as due to this model's high level of performance.\n",
        "Also, there are some methods within the classes which even though are not used in this part, they are going to be used for the implementation of the Elastic Weight Consolidation for the next section. "
      ]
    },
    {
      "cell_type": "code",
      "execution_count": null,
      "metadata": {
        "id": "bhtzr5Yknjs0"
      },
      "outputs": [],
      "source": [
        "# Simple multi-layer perceptron \n",
        "class MLP3:\n",
        "    \n",
        "    def __init__(self, input_shape=(28, 28), hidden_layers_neuron_list=[200, 200], num_classes=10):\n",
        "        self.input_shape = input_shape\n",
        "        self.num_classes = num_classes\n",
        "        self.hidden_layers_neuron_list = hidden_layers_neuron_list\n",
        "        self.model = self.create_mlp()\n",
        "        \n",
        "    def create_mlp(self):\n",
        "        model = Sequential([\n",
        "                Flatten(input_shape=self.input_shape),\n",
        "                Dense(self.hidden_layers_neuron_list[0], input_shape=self.input_shape, activation='relu'),\n",
        "                Dense(self.hidden_layers_neuron_list[1], activation='relu'),\n",
        "                Dense(self.num_classes)\n",
        "        ])\n",
        "        return model\n",
        "    \n",
        "    def get_uncompiled_model(self):\n",
        "        return self.model\n",
        "    \n",
        "    def get_compiled_model(self, optimizer, loss_fn, metrics ):\n",
        "        compiled_model = self.model\n",
        "        compiled_model.compile(optimizer, loss_fn, metrics)\n",
        "        return compiled_model\n"
      ]
    },
    {
      "cell_type": "code",
      "execution_count": null,
      "metadata": {
        "id": "BZxuw5vStbL1"
      },
      "outputs": [],
      "source": [
        "def evaluate(model, test_x, test_y):\n",
        "    acc = tf.keras.metrics.SparseCategoricalAccuracy(name='accuracy')\n",
        "    for imgs, labels in zip(test_x, test_y):\n",
        "        preds = model.predict_on_batch(np.array([imgs]))\n",
        "        acc.update_state(labels, preds)\n",
        "    return round(100*acc.result().numpy(), 2)"
      ]
    },
    {
      "cell_type": "code",
      "execution_count": null,
      "metadata": {
        "id": "0JsixvtOn3OR"
      },
      "outputs": [],
      "source": [
        "class Train:\n",
        "    \n",
        "    def __init__(self, optimizer, loss_fn, prior_weights=None, lambda_=0.1):\n",
        "        self.optimizer = optimizer\n",
        "        self.loss_fn = loss_fn\n",
        "        self.prior_weights = prior_weights\n",
        "        self.lambda_ = lambda_\n",
        "        \n",
        "    def train(self, model, epochs, train_task, fisher_matrix=None, test_tasks=None):\n",
        "        # empty list to collect per epoch test acc of each task\n",
        "        if test_tasks:\n",
        "            test_acc = [[] for _ in test_tasks]\n",
        "        else: \n",
        "            test_acc = None\n",
        "        for epoch in tqdm(range(epochs)):\n",
        "            for batch in train_task:\n",
        "                X, y = batch\n",
        "                with tf.GradientTape() as tape:\n",
        "                    pred = model(X)\n",
        "                    loss = self.loss_fn(y, pred)\n",
        "                    # for the later implementation in the EWC\n",
        "                    if fisher_matrix is not None:\n",
        "                        loss += self.compute_penalty_loss(model, fisher_matrix)\n",
        "                grads = tape.gradient(loss, model.trainable_variables)\n",
        "                self.optimizer.apply_gradients(zip(grads, model.trainable_variables))\n",
        "            # evaluate with the test set of task after each epoch\n",
        "            if test_acc:\n",
        "                for i in range(len(test_tasks)):\n",
        "                    test_acc[i].append(evaluate(model, test_tasks[i][0], test_tasks[i][1]))\n",
        "        return test_acc\n",
        "    # Generate a loss function which will penalise divergence from the current\n",
        "    # state. It is assumed that the model achieves good accuracy on `dataset`,\n",
        "    # and we want to preserve this behaviour.\n",
        "    # The penalty is scaled according to how important each weight is for the\n",
        "    # given dataset, and `lambda applies equally to all weights.\n",
        "    def compute_penalty_loss(self, model, fisher_matrix):\n",
        "        penalty = 0.\n",
        "        for u, v, w in zip(fisher_matrix, model.weights, self.prior_weights):\n",
        "            penalty += tf.math.reduce_sum(u * tf.math.square(v - w))\n",
        "        return 0.5 * self.lambda_ * penalty\n"
      ]
    },
    {
      "cell_type": "code",
      "execution_count": null,
      "metadata": {
        "colab": {
          "base_uri": "https://localhost:8080/"
        },
        "id": "zUbpOhBQUxfS",
        "outputId": "cd202385-f499-4122-c67d-8e0e1f563c1d"
      },
      "outputs": [
        {
          "name": "stderr",
          "output_type": "stream",
          "text": [
            "100%|██████████| 7/7 [08:14<00:00, 70.70s/it]"
          ]
        },
        {
          "name": "stdout",
          "output_type": "stream",
          "text": [
            "[INFO] Task A Original (SGD): 98.39\n"
          ]
        },
        {
          "name": "stderr",
          "output_type": "stream",
          "text": [
            "\n"
          ]
        }
      ],
      "source": [
        "mlp = MLP3()\n",
        "trn_gd = Train(opt, loss_fn)\n",
        "model1 = mlp.get_compiled_model(opt, loss_fn, ['accuracy'])\n",
        "\n",
        "acc11 = trn_gd.train(model1, epochs, train_A, test_tasks=[test_A])[0]\n",
        "model1.save('arabic.h5')\n",
        "print('[INFO] Task A Original (SGD): {}'.format(acc11[-1]))"
      ]
    },
    {
      "cell_type": "markdown",
      "metadata": {
        "id": "YROToVnN-cUE"
      },
      "source": [
        "#### We see a really high test accuracy after 35 epochs though 97 % accuracy took place within first few epochs. It might give a sense that few epochs are enough for the training but I wanted the model to really memorize the whole dataset to make sure that it would be robust to the new tasks even when using Vanilla SGD method"
      ]
    },
    {
      "cell_type": "markdown",
      "metadata": {
        "id": "F8tPPZlcwp6-"
      },
      "source": [
        " Continual learning\n",
        "\n"
      ]
    },
    {
      "cell_type": "markdown",
      "metadata": {
        "id": "zTszFYkyw2UU"
      },
      "source": [
        " Task-incremental learning:\n",
        " For this task, instead of splitting the dataset, I decided to permute the dataset as if it is coming from the other distribution (the same idea as in \"Overcoming catastrophic forgetting in neural\n",
        "networks\" paper applied to mnist dataset). I know that it is different from the instructions but this way I believe we are getting more realistic scenario and we do not need to create a lot of tasks since after the permutation the new task would be as large as the whole dataset."
      ]
    },
    {
      "cell_type": "code",
      "execution_count": null,
      "metadata": {
        "id": "eSEZrA0gxb_j"
      },
      "outputs": [],
      "source": [
        "# Permute pixels of image data. The same permutation is applied to all images. \n",
        "# Also, I added the seed to generation of other tasks and for the reprodicibility\n",
        "def permute_task(train, test, seed):\n",
        "    seed = seed\n",
        "    np.random.seed(seed) # for reproducibility. If we want to create new tasks\n",
        "    train_shape, test_shape = train.shape, test.shape\n",
        "    train_flat, test_flat = train.reshape((-1, 784)), test.reshape((-1, 784))\n",
        "    idx = np.arange(train_flat.shape[1])\n",
        "    np.random.shuffle(idx)\n",
        "    train_permuted, test_permuted = train_flat[:, idx], test_flat[:, idx]\n",
        "    return (train_permuted.reshape(train_shape), test_permuted.reshape(test_shape))"
      ]
    },
    {
      "cell_type": "code",
      "execution_count": null,
      "metadata": {
        "id": "rcB1Li2Dxnoo"
      },
      "outputs": [],
      "source": [
        "# Applying pixel permutation\n",
        "x_train_B, x_test_B = permute_task(x_train, x_test, 1)\n",
        "y_train_B, y_test_B = y_train, y_test\n",
        " \n",
        "train_B = tf.data.Dataset.from_tensor_slices((x_train_B, y_train_B)).shuffle(1000).batch(32)\n",
        "test_B = (x_test_B, y_test_B)"
      ]
    },
    {
      "cell_type": "code",
      "execution_count": null,
      "metadata": {
        "colab": {
          "base_uri": "https://localhost:8080/",
          "height": 200
        },
        "id": "Doqh79BmUlHe",
        "outputId": "f9733ae1-90c9-46cd-9af8-96a5b508e5af"
      },
      "outputs": [
        {
          "data": {
            "image/png": "[encoded data removed]",
            "text/plain": [
              "<Figure size 432x288 with 2 Axes>"
            ]
          },
          "metadata": {},
          "output_type": "display_data"
        }
      ],
      "source": [
        "plt.figure()\n",
        "plt.subplot(1, 2, 1)\n",
        "plt.imshow(x_train[200], cmap='gray')\n",
        "plt.title('Task A')\n",
        "plt.axis('off')\n",
        "plt.subplot(1, 2, 2)\n",
        "plt.imshow(x_train_B[200], cmap='gray')\n",
        "plt.title('Task B')\n",
        "plt.axis('off')\n",
        "plt.show()"
      ]
    },
    {
      "cell_type": "markdown",
      "metadata": {
        "id": "-j0ZVO_10L9K"
      },
      "source": [
        " Train the model on the tasks sequentially, using elastic weight consolidation (EWC)."
      ]
    },
    {
      "cell_type": "markdown",
      "metadata": {
        "id": "_7MWdLRR6Gtv"
      },
      "source": [
        " Initially we train the orginal model on the new task using EWC and then we train by applying Vanilla SGD. We will see that training with EWC gives us a better accuracy."
      ]
    },
    {
      "cell_type": "code",
      "execution_count": null,
      "metadata": {
        "id": "ycWyTu9pUe8R"
      },
      "outputs": [],
      "source": [
        "class EWC:\n",
        "    \n",
        "    def __init__(self, prior_model, data_samples, num_sample=30):\n",
        "        self.prior_model = prior_model\n",
        "        self.prior_weights = prior_model.weights\n",
        "        self.num_sample = num_sample\n",
        "        self.data_samples = data_samples\n",
        "        self.fisher_matrix = self.compute_fisher()\n",
        "  \n",
        "\n",
        "    # Computing the Fisher matrix, representing the importance of each weight in the\n",
        "    # model. This is approximated using the variance of the gradient of each\n",
        "    # weight, for some number of samples from the dataset.\n",
        "    def compute_fisher(self):\n",
        "        weights = self.prior_weights\n",
        "        fisher_accum = np.array([np.zeros(layer.numpy().shape) for layer in weights], \n",
        "                           dtype=object\n",
        "                          )\n",
        "        for j in tqdm(range(self.num_sample)):\n",
        "            idx = np.random.randint(self.data_samples.shape[0])\n",
        "            with tf.GradientTape() as tape:\n",
        "                logits = tf.nn.log_softmax(self.prior_model(np.array([self.data_samples[idx]])))\n",
        "            grads = tape.gradient(logits, weights)\n",
        "            for m in range(len(weights)):\n",
        "                fisher_accum[m] += np.square(grads[m])\n",
        "        fisher_accum /= self.num_sample\n",
        "        return fisher_accum\n",
        "    \n",
        "    def get_fisher(self):\n",
        "        return self.fisher_matrix\n",
        "    "
      ]
    },
    {
      "cell_type": "markdown",
      "metadata": {
        "id": "baDHahxo0BRE"
      },
      "source": [
        "Firstly, we construct the fisher matrix using samples from task A"
      ]
    },
    {
      "cell_type": "code",
      "execution_count": null,
      "metadata": {
        "colab": {
          "base_uri": "https://localhost:8080/"
        },
        "id": "6u4_EtPBVEiM",
        "outputId": "fcc7857a-5ce3-4b6d-b2d3-6ae8b248ab2a"
      },
      "outputs": [
        {
          "name": "stderr",
          "output_type": "stream",
          "text": [
            "100%|██████████| 30/30 [00:00<00:00, 264.16it/s]\n"
          ]
        }
      ],
      "source": [
        "ewc = EWC(model1, x_train, num_sample=num_sample)\n",
        "f_matrix = ewc.get_fisher()"
      ]
    },
    {
      "cell_type": "markdown",
      "metadata": {
        "id": "qegtHAvgVmWB"
      },
      "source": [
        "**Training task B with EWC - using the computed Fisher matrix from task A and the prior weights obtained from A**"
      ]
    },
    {
      "cell_type": "code",
      "execution_count": null,
      "metadata": {
        "id": "bR5Q-dIVVHb0"
      },
      "outputs": [],
      "source": [
        "model2 = mlp.get_compiled_model(opt, loss_fn, ['accuracy'])\n",
        "model2.load_weights('arabic.h5') \n",
        "prior_weights = model2.get_weights()"
      ]
    },
    {
      "cell_type": "code",
      "execution_count": null,
      "metadata": {
        "colab": {
          "base_uri": "https://localhost:8080/"
        },
        "id": "ihnDulBfVKOb",
        "outputId": "04c25bab-3a9d-4036-971d-01769c047fb8"
      },
      "outputs": [
        {
          "name": "stderr",
          "output_type": "stream",
          "text": [
            "100%|██████████| 7/7 [16:45<00:00, 143.69s/it]"
          ]
        },
        {
          "name": "stdout",
          "output_type": "stream",
          "text": [
            "[INFO] Task A ACC. after training B with EWC: 98.19\n",
            "[INFO] Task B ACC. after training B with EWC: 97.93\n"
          ]
        },
        {
          "name": "stderr",
          "output_type": "stream",
          "text": [
            "\n"
          ]
        }
      ],
      "source": [
        "trn = Train(opt, loss_fn, prior_weights=prior_weights, lambda_=lambda_)\n",
        "acc12, acc22 = trn.train(model2, \n",
        "                     epochs, \n",
        "                     train_B, \n",
        "                     fisher_matrix=f_matrix, \n",
        "                     test_tasks=[test_A, test_B]\n",
        "                    )\n",
        "\n",
        "print('[INFO] Task A ACC. after training B with EWC: {}'.format(acc12[-1]))\n",
        "print('[INFO] Task B ACC. after training B with EWC: {}'.format(acc22[-1]))"
      ]
    },
    {
      "cell_type": "markdown",
      "metadata": {
        "id": "PASgI1rTVOn4"
      },
      "source": [
        "**Training task B with vannila SGD**"
      ]
    },
    {
      "cell_type": "code",
      "execution_count": null,
      "metadata": {
        "colab": {
          "base_uri": "https://localhost:8080/"
        },
        "id": "2YwYdjW9VtnL",
        "outputId": "c4e78de0-f6e6-4073-bec3-de314431d7bf"
      },
      "outputs": [
        {
          "name": "stderr",
          "output_type": "stream",
          "text": [
            "100%|██████████| 1/1 [02:02<00:00, 122.21s/it]"
          ]
        },
        {
          "name": "stdout",
          "output_type": "stream",
          "text": [
            "[INFO] Task A ACC. after training B with GD: 90.86\n",
            "[INFO] Task B ACC. after training B with GD: 97.85\n"
          ]
        },
        {
          "name": "stderr",
          "output_type": "stream",
          "text": [
            "\n"
          ]
        }
      ],
      "source": [
        "model_sgdB = mlp.get_compiled_model(opt, loss_fn, ['accuracy'])\n",
        "model_sgdB.load_weights('arabic.h5')\n",
        "acc_sgdA, acc_sgdB = trn_gd.train(model_sgdB, 1, train_B, test_tasks = [test_A, test_B])\n",
        "\n",
        "print('[INFO] Task A ACC. after training B with GD: {}'.format(acc_sgdA[-1]))\n",
        "print('[INFO] Task B ACC. after training B with GD: {}'.format(acc_sgdB[-1]))"
      ]
    },
    {
      "cell_type": "markdown",
      "metadata": {
        "id": "_xr2xLO3A8r9"
      },
      "source": [
        "We can see that by applying Elastic Weight Consolidation we are able to retain higher test accuracy of the task A.  "
      ]
    },
    {
      "cell_type": "markdown",
      "metadata": {
        "id": "ldb59Ezx6BTk"
      },
      "source": [
        "#### Bar Plots"
      ]
    },
    {
      "cell_type": "code",
      "execution_count": null,
      "metadata": {
        "colab": {
          "base_uri": "https://localhost:8080/",
          "height": 299
        },
        "id": "z_0P08MmVxYD",
        "outputId": "df48fe27-d328-4ef3-c919-436686f8e89b"
      },
      "outputs": [
        {
          "data": {
            "image/png": "[encoded data removed]",
            "text/plain": [
              "<Figure size 432x288 with 1 Axes>"
            ]
          },
          "metadata": {},
          "output_type": "display_data"
        }
      ],
      "source": [
        "x = 0\n",
        "total_width, n = 0.1, 2\n",
        "width = total_width / n\n",
        "x = x - (total_width - width) / 2\n",
        "plt.style.use('ggplot')\n",
        "plt.bar(x, acc22[-1], width=width, label='EWC B', hatch='w/', ec='w')\n",
        "plt.bar(x + width, acc_sgdB[-1], width=width, label='SGD B', hatch='w/', ec='w')\n",
        "plt.bar(x + 3.5 * width, acc11[-1], width=width, label='Prior A', hatch='w/', ec='w')\n",
        "plt.bar(x + 4.5 * width, acc12[-1], width=width, label='EWC A', hatch='w/', ec='w')\n",
        "plt.bar(x + 5.5 * width, acc_sgdA[-1], width=width, label='SGD A', hatch='w/', ec='w')\n",
        "plt.legend(facecolor='white', loc='lower left')\n",
        "plt.xticks(np.array([0., 3.5 * width]), ('Task B', 'Task A'))\n",
        "plt.title('Training task B with EWC Vs SGD after \\n task A had been trained to criterion')\n",
        "plt.xlim(-0.15, 0.35)\n",
        "plt.ylim(0., 105.)\n",
        "plt.show()"
      ]
    },
    {
      "cell_type": "code",
      "execution_count": null,
      "metadata": {
        "colab": {
          "base_uri": "https://localhost:8080/",
          "height": 334
        },
        "id": "ADHDMuNYV0c0",
        "outputId": "98b9273d-8e23-4e82-ca92-de362c99b9d2"
      },
      "outputs": [
        {
          "data": {
            "text/plain": [
              "Text(0.5, 0, 'Epochs')"
            ]
          },
          "execution_count": 79,
          "metadata": {},
          "output_type": "execute_result"
        },
        {
          "data": {
            "image/png": "[encoded data removed]",
            "text/plain": [
              "<Figure size 432x288 with 1 Axes>"
            ]
          },
          "metadata": {},
          "output_type": "display_data"
        }
      ],
      "source": [
        "plt.plot(range(0, epochs + 1, 1), (acc11 + acc_sgdA), color='green', linestyle='dashed', label = \"SGD\")\n",
        "plt.plot(range(0, epochs*2, 1), (acc11 + acc12), color='red', linestyle='dashed', label = \"EWC\")\n",
        "plt.plot(range(0, epochs, 1), (acc11), color='blue', label = \"Prior\")\n",
        "#plt.axvline(x=9, linestyle='dashed', color='green')\n",
        "plt.xticks(range(0, epochs*2, 50))\n",
        "plt.title('Training task B with EWC Vs SGD after \\n task A had been trained to criterion')\n",
        "plt.legend(facecolor='white')\n",
        "plt.ylabel('Test accuracy A')\n",
        "plt.xlabel('Epochs')"
      ]
    },
    {
      "cell_type": "markdown",
      "metadata": {
        "id": "5-A4KETb6AZF"
      },
      "source": [
        "#### Task C\n",
        "In this section, the logic is the same as in the previous section except that in this case we are using the weights of the model trained with task B using the EWC. "
      ]
    },
    {
      "cell_type": "code",
      "execution_count": null,
      "metadata": {
        "id": "J2Z4Srv-9AX4"
      },
      "outputs": [],
      "source": [
        "x_train_C, x_test_C = permute_task(x_train, x_test, 2)\n",
        "y_train_C, y_test_C = y_train, y_test\n",
        " \n",
        "train_C = tf.data.Dataset.from_tensor_slices((x_train_C, y_train_C)).shuffle(1000).batch(32)\n",
        "test_C = (x_test_C, y_test_C)"
      ]
    },
    {
      "cell_type": "code",
      "execution_count": null,
      "metadata": {
        "colab": {
          "base_uri": "https://localhost:8080/",
          "height": 200
        },
        "id": "-SWl_w5_jD9P",
        "outputId": "ea55fd97-de9a-44a4-8a06-da9c92d3b7a1"
      },
      "outputs": [
        {
          "data": {
            "image/png": "[encoded data removed]",
            "text/plain": [
              "<Figure size 432x288 with 2 Axes>"
            ]
          },
          "metadata": {},
          "output_type": "display_data"
        }
      ],
      "source": [
        "plt.figure()\n",
        "plt.subplot(1, 2, 1)\n",
        "plt.imshow(x_train[200], cmap='gray')\n",
        "plt.title('Task A')\n",
        "plt.axis('off')\n",
        "plt.subplot(1, 2, 2)\n",
        "plt.imshow(x_train_C[200], cmap='gray')\n",
        "plt.title('Task C')\n",
        "plt.axis('off')\n",
        "plt.show()"
      ]
    },
    {
      "cell_type": "markdown",
      "metadata": {
        "id": "7X6aWkdR_KpN"
      },
      "source": [
        "**Training task C with EWC - using the computed Fisher matrix from task B trained with EWC and the prior weights obtained from there**"
      ]
    },
    {
      "cell_type": "code",
      "execution_count": null,
      "metadata": {
        "id": "B4MiudcY5-1_"
      },
      "outputs": [],
      "source": [
        "model2.save('arabic_ewcB.h5')"
      ]
    },
    {
      "cell_type": "code",
      "execution_count": null,
      "metadata": {
        "colab": {
          "base_uri": "https://localhost:8080/"
        },
        "id": "gpZcb3km6sAx",
        "outputId": "3a4d7514-8a1c-4fb6-f303-acaaa1bbc37a"
      },
      "outputs": [
        {
          "name": "stderr",
          "output_type": "stream",
          "text": [
            "100%|██████████| 30/30 [00:00<00:00, 263.18it/s]\n"
          ]
        }
      ],
      "source": [
        "ewc = EWC(model2, x_train_B, num_sample=num_sample)\n",
        "f_matrix = ewc.get_fisher()\n",
        "model3 = mlp.get_compiled_model(opt, loss_fn, ['accuracy'])\n",
        "model3.load_weights('arabic_ewcB.h5') \n",
        "prior_weights = model3.get_weights()"
      ]
    },
    {
      "cell_type": "code",
      "execution_count": null,
      "metadata": {
        "colab": {
          "background_save": true,
          "base_uri": "https://localhost:8080/"
        },
        "id": "YSi6pD1a67XT",
        "outputId": "f5e21a44-81d8-495e-9b17-d539cc317106"
      },
      "outputs": [
        {
          "name": "stderr",
          "output_type": "stream",
          "text": [
            "100%|██████████| 7/7 [22:24<00:00, 192.11s/it]"
          ]
        },
        {
          "name": "stdout",
          "output_type": "stream",
          "text": [
            "[INFO] Task B ACC. after training C with EWC: 97.4\n",
            "[INFO] Task C ACC. after training C with EWC: 98.14\n"
          ]
        },
        {
          "name": "stderr",
          "output_type": "stream",
          "text": [
            "\n"
          ]
        }
      ],
      "source": [
        "trn = Train(opt, loss_fn, prior_weights=prior_weights, lambda_=lambda_)\n",
        "acc13, acc23, acc33 = trn.train(model3, \n",
        "                     epochs, \n",
        "                     train_C, \n",
        "                     fisher_matrix=f_matrix, \n",
        "                     test_tasks=[test_A, test_B, test_C]\n",
        "                    )\n",
        "\n",
        "\n",
        "print('[INFO] Task B ACC. after training C with EWC: {}'.format(acc23[-1]))\n",
        "print('[INFO] Task C ACC. after training C with EWC: {}'.format(acc33[-1]))"
      ]
    },
    {
      "cell_type": "markdown",
      "metadata": {
        "id": "ULwjkaS5_hPS"
      },
      "source": [
        "**Training task C with vannila SGD**"
      ]
    },
    {
      "cell_type": "code",
      "execution_count": null,
      "metadata": {
        "id": "6NnGJ9s0-Bue"
      },
      "outputs": [],
      "source": [
        "model_sgdC = mlp.get_compiled_model(opt, loss_fn, ['accuracy'])\n",
        "model_sgdC.load_weights('arabic_ewcB.h5')\n",
        "acc_sgdB_new, acc_sgdC = trn_gd.train(model_sgdB, 1, train_C, test_tasks = [test_B, test_C])\n",
        "\n",
        "print('[INFO] Task B ACC. after training C with GD: {}'.format(acc_sgdB[-1]))\n",
        "print('[INFO] Task C ACC. after training C with GD: {}'.format(acc_sgdC[-1]))"
      ]
    },
    {
      "cell_type": "code",
      "execution_count": null,
      "metadata": {
        "colab": {
          "background_save": true
        },
        "id": "DXtZU6y8BST3",
        "outputId": "42a3cbf6-374d-4c3f-a738-d8a7149c70d8"
      },
      "outputs": [
        {
          "ename": "ValueError",
          "evalue": "ignored",
          "output_type": "error",
          "traceback": [
            "\u001b[0;31m---------------------------------------------------------------------------\u001b[0m",
            "\u001b[0;31mValueError\u001b[0m                                Traceback (most recent call last)",
            "\u001b[0;32m<ipython-input-86-aff90b6cb52a>\u001b[0m in \u001b[0;36m<module>\u001b[0;34m()\u001b[0m\n\u001b[1;32m      1\u001b[0m \u001b[0mplt\u001b[0m\u001b[0;34m.\u001b[0m\u001b[0mplot\u001b[0m\u001b[0;34m(\u001b[0m\u001b[0mrange\u001b[0m\u001b[0;34m(\u001b[0m\u001b[0;36m0\u001b[0m\u001b[0;34m,\u001b[0m \u001b[0mepochs\u001b[0m\u001b[0;34m+\u001b[0m\u001b[0;36m1\u001b[0m\u001b[0;34m,\u001b[0m \u001b[0;36m1\u001b[0m\u001b[0;34m)\u001b[0m\u001b[0;34m,\u001b[0m \u001b[0;34m(\u001b[0m\u001b[0macc11\u001b[0m \u001b[0;34m+\u001b[0m \u001b[0macc_sgdA\u001b[0m\u001b[0;34m)\u001b[0m\u001b[0;34m,\u001b[0m \u001b[0mcolor\u001b[0m\u001b[0;34m=\u001b[0m\u001b[0;34m'green'\u001b[0m\u001b[0;34m,\u001b[0m \u001b[0mlinestyle\u001b[0m\u001b[0;34m=\u001b[0m\u001b[0;34m'dashed'\u001b[0m\u001b[0;34m,\u001b[0m \u001b[0mlabel\u001b[0m \u001b[0;34m=\u001b[0m \u001b[0;34m\"SGD\"\u001b[0m\u001b[0;34m)\u001b[0m\u001b[0;34m\u001b[0m\u001b[0;34m\u001b[0m\u001b[0m\n\u001b[1;32m      2\u001b[0m \u001b[0mplt\u001b[0m\u001b[0;34m.\u001b[0m\u001b[0mplot\u001b[0m\u001b[0;34m(\u001b[0m\u001b[0mrange\u001b[0m\u001b[0;34m(\u001b[0m\u001b[0;36m0\u001b[0m\u001b[0;34m,\u001b[0m \u001b[0mepochs\u001b[0m\u001b[0;34m*\u001b[0m\u001b[0;36m2\u001b[0m\u001b[0;34m,\u001b[0m \u001b[0;36m1\u001b[0m\u001b[0;34m)\u001b[0m\u001b[0;34m,\u001b[0m \u001b[0;34m(\u001b[0m\u001b[0macc11\u001b[0m \u001b[0;34m+\u001b[0m \u001b[0macc12\u001b[0m\u001b[0;34m)\u001b[0m\u001b[0;34m,\u001b[0m \u001b[0mcolor\u001b[0m\u001b[0;34m=\u001b[0m\u001b[0;34m'red'\u001b[0m\u001b[0;34m,\u001b[0m \u001b[0mlinestyle\u001b[0m\u001b[0;34m=\u001b[0m\u001b[0;34m'dashed'\u001b[0m\u001b[0;34m,\u001b[0m \u001b[0mlabel\u001b[0m \u001b[0;34m=\u001b[0m \u001b[0;34m\"EWC\"\u001b[0m\u001b[0;34m)\u001b[0m\u001b[0;34m\u001b[0m\u001b[0;34m\u001b[0m\u001b[0m\n\u001b[0;32m----> 3\u001b[0;31m \u001b[0mplt\u001b[0m\u001b[0;34m.\u001b[0m\u001b[0mplot\u001b[0m\u001b[0;34m(\u001b[0m\u001b[0mrange\u001b[0m\u001b[0;34m(\u001b[0m\u001b[0;36m0\u001b[0m\u001b[0;34m,\u001b[0m \u001b[0mepochs\u001b[0m\u001b[0;34m*\u001b[0m\u001b[0;36m2\u001b[0m\u001b[0;34m,\u001b[0m \u001b[0;36m1\u001b[0m\u001b[0;34m)\u001b[0m\u001b[0;34m,\u001b[0m \u001b[0;34m(\u001b[0m\u001b[0macc22\u001b[0m \u001b[0;34m+\u001b[0m \u001b[0macc_sgdB_new\u001b[0m\u001b[0;34m)\u001b[0m\u001b[0;34m,\u001b[0m \u001b[0mcolor\u001b[0m\u001b[0;34m=\u001b[0m\u001b[0;34m'grey'\u001b[0m\u001b[0;34m,\u001b[0m \u001b[0mlinestyle\u001b[0m\u001b[0;34m=\u001b[0m\u001b[0;34m'dashed'\u001b[0m\u001b[0;34m,\u001b[0m \u001b[0mlabel\u001b[0m \u001b[0;34m=\u001b[0m \u001b[0;34m\"SGD_B\"\u001b[0m\u001b[0;34m)\u001b[0m\u001b[0;34m\u001b[0m\u001b[0;34m\u001b[0m\u001b[0m\n\u001b[0m\u001b[1;32m      4\u001b[0m \u001b[0mplt\u001b[0m\u001b[0;34m.\u001b[0m\u001b[0mplot\u001b[0m\u001b[0;34m(\u001b[0m\u001b[0mrange\u001b[0m\u001b[0;34m(\u001b[0m\u001b[0;36m0\u001b[0m\u001b[0;34m,\u001b[0m \u001b[0mepochs\u001b[0m\u001b[0;34m*\u001b[0m\u001b[0;36m2\u001b[0m\u001b[0;34m,\u001b[0m \u001b[0;36m1\u001b[0m\u001b[0;34m)\u001b[0m\u001b[0;34m,\u001b[0m \u001b[0;34m(\u001b[0m\u001b[0macc22\u001b[0m \u001b[0;34m+\u001b[0m \u001b[0macc23\u001b[0m\u001b[0;34m)\u001b[0m\u001b[0;34m,\u001b[0m \u001b[0mcolor\u001b[0m\u001b[0;34m=\u001b[0m\u001b[0;34m'orange'\u001b[0m\u001b[0;34m,\u001b[0m \u001b[0mlinestyle\u001b[0m\u001b[0;34m=\u001b[0m\u001b[0;34m'dashed'\u001b[0m\u001b[0;34m,\u001b[0m \u001b[0mlabel\u001b[0m \u001b[0;34m=\u001b[0m \u001b[0;34m\"EWC_B\"\u001b[0m\u001b[0;34m)\u001b[0m\u001b[0;34m\u001b[0m\u001b[0;34m\u001b[0m\u001b[0m\n\u001b[1;32m      5\u001b[0m \u001b[0mplt\u001b[0m\u001b[0;34m.\u001b[0m\u001b[0mplot\u001b[0m\u001b[0;34m(\u001b[0m\u001b[0mrange\u001b[0m\u001b[0;34m(\u001b[0m\u001b[0;36m0\u001b[0m\u001b[0;34m,\u001b[0m \u001b[0mepochs\u001b[0m\u001b[0;34m,\u001b[0m \u001b[0;36m1\u001b[0m\u001b[0;34m)\u001b[0m\u001b[0;34m,\u001b[0m \u001b[0;34m(\u001b[0m\u001b[0macc11\u001b[0m\u001b[0;34m)\u001b[0m\u001b[0;34m,\u001b[0m \u001b[0mcolor\u001b[0m\u001b[0;34m=\u001b[0m\u001b[0;34m'blue'\u001b[0m\u001b[0;34m,\u001b[0m \u001b[0mlabel\u001b[0m \u001b[0;34m=\u001b[0m \u001b[0;34m\"Prior\"\u001b[0m\u001b[0;34m)\u001b[0m\u001b[0;34m\u001b[0m\u001b[0;34m\u001b[0m\u001b[0m\n",
            "\u001b[0;32m/usr/local/lib/python3.7/dist-packages/matplotlib/pyplot.py\u001b[0m in \u001b[0;36mplot\u001b[0;34m(scalex, scaley, data, *args, **kwargs)\u001b[0m\n\u001b[1;32m   2761\u001b[0m     return gca().plot(\n\u001b[1;32m   2762\u001b[0m         *args, scalex=scalex, scaley=scaley, **({\"data\": data} if data\n\u001b[0;32m-> 2763\u001b[0;31m         is not None else {}), **kwargs)\n\u001b[0m\u001b[1;32m   2764\u001b[0m \u001b[0;34m\u001b[0m\u001b[0m\n\u001b[1;32m   2765\u001b[0m \u001b[0;34m\u001b[0m\u001b[0m\n",
            "\u001b[0;32m/usr/local/lib/python3.7/dist-packages/matplotlib/axes/_axes.py\u001b[0m in \u001b[0;36mplot\u001b[0;34m(self, scalex, scaley, data, *args, **kwargs)\u001b[0m\n\u001b[1;32m   1645\u001b[0m         \"\"\"\n\u001b[1;32m   1646\u001b[0m         \u001b[0mkwargs\u001b[0m \u001b[0;34m=\u001b[0m \u001b[0mcbook\u001b[0m\u001b[0;34m.\u001b[0m\u001b[0mnormalize_kwargs\u001b[0m\u001b[0;34m(\u001b[0m\u001b[0mkwargs\u001b[0m\u001b[0;34m,\u001b[0m \u001b[0mmlines\u001b[0m\u001b[0;34m.\u001b[0m\u001b[0mLine2D\u001b[0m\u001b[0;34m)\u001b[0m\u001b[0;34m\u001b[0m\u001b[0;34m\u001b[0m\u001b[0m\n\u001b[0;32m-> 1647\u001b[0;31m         \u001b[0mlines\u001b[0m \u001b[0;34m=\u001b[0m \u001b[0;34m[\u001b[0m\u001b[0;34m*\u001b[0m\u001b[0mself\u001b[0m\u001b[0;34m.\u001b[0m\u001b[0m_get_lines\u001b[0m\u001b[0;34m(\u001b[0m\u001b[0;34m*\u001b[0m\u001b[0margs\u001b[0m\u001b[0;34m,\u001b[0m \u001b[0mdata\u001b[0m\u001b[0;34m=\u001b[0m\u001b[0mdata\u001b[0m\u001b[0;34m,\u001b[0m \u001b[0;34m**\u001b[0m\u001b[0mkwargs\u001b[0m\u001b[0;34m)\u001b[0m\u001b[0;34m]\u001b[0m\u001b[0;34m\u001b[0m\u001b[0;34m\u001b[0m\u001b[0m\n\u001b[0m\u001b[1;32m   1648\u001b[0m         \u001b[0;32mfor\u001b[0m \u001b[0mline\u001b[0m \u001b[0;32min\u001b[0m \u001b[0mlines\u001b[0m\u001b[0;34m:\u001b[0m\u001b[0;34m\u001b[0m\u001b[0;34m\u001b[0m\u001b[0m\n\u001b[1;32m   1649\u001b[0m             \u001b[0mself\u001b[0m\u001b[0;34m.\u001b[0m\u001b[0madd_line\u001b[0m\u001b[0;34m(\u001b[0m\u001b[0mline\u001b[0m\u001b[0;34m)\u001b[0m\u001b[0;34m\u001b[0m\u001b[0;34m\u001b[0m\u001b[0m\n",
            "\u001b[0;32m/usr/local/lib/python3.7/dist-packages/matplotlib/axes/_base.py\u001b[0m in \u001b[0;36m__call__\u001b[0;34m(self, *args, **kwargs)\u001b[0m\n\u001b[1;32m    214\u001b[0m                 \u001b[0mthis\u001b[0m \u001b[0;34m+=\u001b[0m \u001b[0margs\u001b[0m\u001b[0;34m[\u001b[0m\u001b[0;36m0\u001b[0m\u001b[0;34m]\u001b[0m\u001b[0;34m,\u001b[0m\u001b[0;34m\u001b[0m\u001b[0;34m\u001b[0m\u001b[0m\n\u001b[1;32m    215\u001b[0m                 \u001b[0margs\u001b[0m \u001b[0;34m=\u001b[0m \u001b[0margs\u001b[0m\u001b[0;34m[\u001b[0m\u001b[0;36m1\u001b[0m\u001b[0;34m:\u001b[0m\u001b[0;34m]\u001b[0m\u001b[0;34m\u001b[0m\u001b[0;34m\u001b[0m\u001b[0m\n\u001b[0;32m--> 216\u001b[0;31m             \u001b[0;32myield\u001b[0m \u001b[0;32mfrom\u001b[0m \u001b[0mself\u001b[0m\u001b[0;34m.\u001b[0m\u001b[0m_plot_args\u001b[0m\u001b[0;34m(\u001b[0m\u001b[0mthis\u001b[0m\u001b[0;34m,\u001b[0m \u001b[0mkwargs\u001b[0m\u001b[0;34m)\u001b[0m\u001b[0;34m\u001b[0m\u001b[0;34m\u001b[0m\u001b[0m\n\u001b[0m\u001b[1;32m    217\u001b[0m \u001b[0;34m\u001b[0m\u001b[0m\n\u001b[1;32m    218\u001b[0m     \u001b[0;32mdef\u001b[0m \u001b[0mget_next_color\u001b[0m\u001b[0;34m(\u001b[0m\u001b[0mself\u001b[0m\u001b[0;34m)\u001b[0m\u001b[0;34m:\u001b[0m\u001b[0;34m\u001b[0m\u001b[0;34m\u001b[0m\u001b[0m\n",
            "\u001b[0;32m/usr/local/lib/python3.7/dist-packages/matplotlib/axes/_base.py\u001b[0m in \u001b[0;36m_plot_args\u001b[0;34m(self, tup, kwargs)\u001b[0m\n\u001b[1;32m    340\u001b[0m \u001b[0;34m\u001b[0m\u001b[0m\n\u001b[1;32m    341\u001b[0m         \u001b[0;32mif\u001b[0m \u001b[0mx\u001b[0m\u001b[0;34m.\u001b[0m\u001b[0mshape\u001b[0m\u001b[0;34m[\u001b[0m\u001b[0;36m0\u001b[0m\u001b[0;34m]\u001b[0m \u001b[0;34m!=\u001b[0m \u001b[0my\u001b[0m\u001b[0;34m.\u001b[0m\u001b[0mshape\u001b[0m\u001b[0;34m[\u001b[0m\u001b[0;36m0\u001b[0m\u001b[0;34m]\u001b[0m\u001b[0;34m:\u001b[0m\u001b[0;34m\u001b[0m\u001b[0;34m\u001b[0m\u001b[0m\n\u001b[0;32m--> 342\u001b[0;31m             raise ValueError(f\"x and y must have same first dimension, but \"\n\u001b[0m\u001b[1;32m    343\u001b[0m                              f\"have shapes {x.shape} and {y.shape}\")\n\u001b[1;32m    344\u001b[0m         \u001b[0;32mif\u001b[0m \u001b[0mx\u001b[0m\u001b[0;34m.\u001b[0m\u001b[0mndim\u001b[0m \u001b[0;34m>\u001b[0m \u001b[0;36m2\u001b[0m \u001b[0;32mor\u001b[0m \u001b[0my\u001b[0m\u001b[0;34m.\u001b[0m\u001b[0mndim\u001b[0m \u001b[0;34m>\u001b[0m \u001b[0;36m2\u001b[0m\u001b[0;34m:\u001b[0m\u001b[0;34m\u001b[0m\u001b[0;34m\u001b[0m\u001b[0m\n",
            "\u001b[0;31mValueError\u001b[0m: x and y must have same first dimension, but have shapes (14,) and (8,)"
          ]
        },
        {
          "data": {
            "image/png": "[encoded data removed]",
            "text/plain": [
              "<Figure size 432x288 with 1 Axes>"
            ]
          },
          "metadata": {},
          "output_type": "display_data"
        }
      ],
      "source": [
        "plt.plot(range(0, epochs+1, 1), (acc11 + acc_sgdA), color='green', linestyle='dashed', label = \"SGD\")\n",
        "plt.plot(range(0, epochs*2, 1), (acc11 + acc12), color='red', linestyle='dashed', label = \"EWC\")\n",
        "plt.plot(range(0, epochs*2, 1), (acc22 + acc_sgdB_new), color='grey', linestyle='dashed', label = \"SGD_B\")\n",
        "plt.plot(range(0, epochs*2, 1), (acc22 + acc23), color='orange', linestyle='dashed', label = \"EWC_B\")\n",
        "plt.plot(range(0, epochs, 1), (acc11), color='blue', label = \"Prior\")\n",
        "plt.plot(range(0, epochs, 1), (acc22), color='black', label = \"acc22\")\n",
        "\n",
        "#plt.axvline(x=9, linestyle='dashed', color='green')\n",
        "plt.xticks(range(0, epochs*2, 50))\n",
        "plt.title('Training task B, C with EWC Vs SGD after \\n task A, B had been trained to criterion')\n",
        "plt.legend(facecolor='white')\n",
        "plt.ylabel('Test accuracy A')\n",
        "plt.xlabel('Epochs')"
      ]
    },
    {
      "cell_type": "markdown",
      "metadata": {
        "id": "1GhZfG6OequR"
      },
      "source": [
        "### Metrics for Continual Learning\n",
        "#### Global Accuracy\n",
        "\n",
        "\n",
        "\n"
      ]
    },
    {
      "cell_type": "markdown",
      "metadata": {
        "id": "YJ4Ay-0NgScX"
      },
      "source": [
        "After observing t different task, the performance of the model can be summarized in a R(t,t) matrix, where Ri,j is the performance on task i after training on task j.\n",
        "Several CL metrics can be obtained from this matrix. For example, a global\n",
        "accuracy."
      ]
    },
    {
      "cell_type": "code",
      "execution_count": null,
      "metadata": {
        "id": "QAne5WFLepnx"
      },
      "outputs": [],
      "source": [
        "global_accuracy = (acc11[-1] + acc12[-1]+ acc13[-1] + acc22[-1] + acc23[-1] + acc33[-1])/6\n",
        "print('[INFO] Global Accuracy: {}'.format(round(global_accuracy,2)))"
      ]
    },
    {
      "cell_type": "markdown",
      "metadata": {
        "id": "G92xjwO1firw"
      },
      "source": [
        "#### Backward Transfer "
      ]
    },
    {
      "cell_type": "markdown",
      "metadata": {
        "id": "8SbX6Dhzge8t"
      },
      "source": [
        "Another interesting metric is backward transfer, i.e., how much training on\n",
        "a new task has improved or worsened the previous tasks:"
      ]
    },
    {
      "cell_type": "code",
      "execution_count": null,
      "metadata": {
        "id": "Mlcc_SzJZ74u"
      },
      "outputs": [],
      "source": [
        "backward_transfer = ((acc12[-1] -  acc11[-1]) + (acc13[-1] -  acc11[-1]) +  (acc23[-1] -  acc22[-1]))/3\n",
        "print('[INFO] Backward Transfer: {}'.format(round(backward_transfer, 2)))"
      ]
    },
    {
      "cell_type": "code",
      "execution_count": null,
      "metadata": {
        "id": "AAuhvsCpjhpI"
      },
      "outputs": [],
      "source": [
        ""
      ]
    }
  ],
  "metadata": {
    "colab": {
      "collapsed_sections": [],
      "name": "Continual_learning.ipynb",
      "provenance": []
    },
    "kernelspec": {
      "display_name": "Python 3",
      "language": "python",
      "name": "python3"
    },
    "language_info": {
      "codemirror_mode": {
        "name": "ipython",
        "version": 3
      },
      "file_extension": ".py",
      "mimetype": "text/x-python",
      "name": "python",
      "nbconvert_exporter": "python",
      "pygments_lexer": "ipython3",
      "version": "3.8.8"
    }
  },
  "nbformat": 4,
  "nbformat_minor": 0
}